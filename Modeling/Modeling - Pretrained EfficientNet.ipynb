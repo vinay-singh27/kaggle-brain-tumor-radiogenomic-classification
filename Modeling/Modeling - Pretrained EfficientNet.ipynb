{
 "cells": [
  {
   "cell_type": "code",
   "execution_count": 1,
   "id": "39763581",
   "metadata": {},
   "outputs": [],
   "source": [
    "import os\n",
    "import sys \n",
    "import glob\n",
    "import time\n",
    "import re\n",
    "import random\n",
    "from pathlib import Path\n",
    "\n",
    "import numpy as np\n",
    "import pandas as pd\n",
    "import pydicom\n",
    "from pydicom.pixel_data_handlers.util import apply_voi_lut\n",
    "import cv2\n",
    "\n",
    "import matplotlib.pyplot as plt\n",
    "import seaborn as sns\n",
    "\n",
    "import torch\n",
    "import torch.nn as nn\n",
    "import torch.nn.functional as F\n",
    "from torch.utils.data import DataLoader, Dataset\n",
    "from efficientnet_pytorch_3d import EfficientNet3D\n",
    "\n",
    "from sklearn.model_selection import train_test_split\n",
    "from sklearn.metrics import roc_auc_score\n",
    "\n",
    "import warnings\n",
    "warnings.filterwarnings('ignore')\n"
   ]
  },
  {
   "cell_type": "code",
   "execution_count": 9,
   "id": "78c19f00",
   "metadata": {},
   "outputs": [],
   "source": [
    "data_root = Path('../preprocessed_array/')\n",
    "\n",
    "mri_types = ['FLAIR','T1w','T1wCE','T2w']\n",
    "SIZE = 256\n",
    "NUM_IMAGES = 64"
   ]
  },
  {
   "cell_type": "markdown",
   "id": "6f5ce7f0",
   "metadata": {},
   "source": [
    "## Check GPU "
   ]
  },
  {
   "cell_type": "code",
   "execution_count": 3,
   "id": "681fc235",
   "metadata": {},
   "outputs": [
    {
     "name": "stdout",
     "output_type": "stream",
     "text": [
      "True\n",
      "GeForce GTX 1660 Ti with Max-Q Design\n"
     ]
    }
   ],
   "source": [
    "print(torch.cuda.is_available())\n",
    "print(torch.cuda.get_device_name(0))"
   ]
  },
  {
   "cell_type": "code",
   "execution_count": null,
   "id": "c27d33d8",
   "metadata": {},
   "outputs": [],
   "source": []
  },
  {
   "cell_type": "markdown",
   "id": "48f7353e",
   "metadata": {},
   "source": [
    "## Data Loading & Preprocessing"
   ]
  },
  {
   "cell_type": "code",
   "execution_count": 4,
   "id": "9ce622f1",
   "metadata": {},
   "outputs": [],
   "source": [
    "#get image plane\n",
    "def get_image_plane(data):\n",
    "    x1, y1, _, x2, y2, _ = [round(j) for j in data.ImageOrientationPatient]\n",
    "    cords = [x1, y1, x2, y2]\n",
    "\n",
    "    if cords == [1, 0, 0, 0]:\n",
    "        return 'Coronal'\n",
    "    elif cords == [1, 0, 0, 1]:\n",
    "        return 'Axial'\n",
    "    elif cords == [0, 1, 0, 0]:\n",
    "        return 'Sagittal'\n",
    "    else:\n",
    "        return 'Unknown'\n",
    "    \n",
    "    \n",
    "#get voxel data & orient voxel    \n",
    "def get_voxel(study_id, scan_type, train = True):\n",
    "    imgs = []\n",
    "    if train :\n",
    "        DATASET = 'train'\n",
    "    else :\n",
    "        DATASET = 'test'\n",
    "    dcm_dir = data_root.joinpath(DATASET, study_id, scan_type)\n",
    "    dcm_paths = sorted(dcm_dir.glob(\"*.dcm\"), key=lambda x: int(x.stem.split(\"-\")[-1]))\n",
    "    positions = []\n",
    "    \n",
    "    for dcm_path in dcm_paths:\n",
    "        img = pydicom.dcmread(str(dcm_path))\n",
    "        imgs.append(img.pixel_array)\n",
    "        positions.append(img.ImagePositionPatient)\n",
    "        \n",
    "    plane = get_image_plane(img)\n",
    "    voxel = np.stack(imgs)\n",
    "    \n",
    "    # reorder planes if needed and rotate voxel\n",
    "    if plane == \"Coronal\":\n",
    "        if positions[0][1] < positions[-1][1]:\n",
    "            voxel = voxel[::-1]\n",
    "#             print(f\"{study_id} {scan_type} {plane} reordered\")\n",
    "        voxel = voxel.transpose((1, 0, 2))\n",
    "    elif plane == \"Sagittal\":\n",
    "        if positions[0][0] < positions[-1][0]:\n",
    "            voxel = voxel[::-1]\n",
    "#             print(f\"{study_id} {scan_type} {plane} reordered\")\n",
    "        voxel = voxel.transpose((1, 2, 0))\n",
    "        voxel = np.rot90(voxel, 2, axes=(1, 2))\n",
    "    elif plane == \"Axial\":\n",
    "        if positions[0][2] > positions[-1][2]:\n",
    "            voxel = voxel[::-1]\n",
    "#             print(f\"{study_id} {scan_type} {plane} reordered\")\n",
    "        voxel = np.rot90(voxel, 2)\n",
    "    else:\n",
    "        raise ValueError(f\"Unknown plane {plane}\")\n",
    "    return voxel, plane\n",
    "\n",
    "#normalize\n",
    "def normalize_contrast(voxel):\n",
    "    if voxel.sum() == 0:\n",
    "        return voxel\n",
    "    voxel = voxel - np.min(voxel)\n",
    "    voxel = voxel / np.max(voxel)\n",
    "    voxel = (voxel * 255).astype(np.uint8)\n",
    "    return voxel\n",
    "\n",
    "#crop voxel based on non zero values\n",
    "def crop_voxel(voxel):\n",
    "    if voxel.sum() == 0:\n",
    "        return voxel\n",
    "    keep = (voxel.mean(axis=(0, 1)) > 0)\n",
    "    voxel = voxel[:, :, keep]\n",
    "    keep = (voxel.mean(axis=(0, 2)) > 0)\n",
    "    voxel = voxel[:, keep]\n",
    "    keep = (voxel.mean(axis=(1, 2)) > 0)\n",
    "    voxel = voxel[keep]\n",
    "    return voxel\n",
    "\n",
    "#resize the voxel across all the axes\n",
    "def resize_voxel(voxel, sz=64):\n",
    "    output = np.zeros((sz, sz, sz), dtype=np.uint8)\n",
    "\n",
    "    if np.argmax(voxel.shape) == 0:\n",
    "        for i, s in enumerate(np.linspace(0, voxel.shape[0] - 1, sz)):\n",
    "            output[i] = cv2.resize(voxel[int(s)], (sz, sz))\n",
    "    elif np.argmax(voxel.shape) == 1:\n",
    "        for i, s in enumerate(np.linspace(0, voxel.shape[1] - 1, sz)):\n",
    "            output[:, i] = cv2.resize(voxel[:, int(s)], (sz, sz))\n",
    "    elif np.argmax(voxel.shape) == 2:\n",
    "        for i, s in enumerate(np.linspace(0, voxel.shape[2] - 1, sz)):\n",
    "            output[:, :, i] = cv2.resize(voxel[:, :, int(s)], (sz, sz))\n",
    "\n",
    "    return output\n",
    "    "
   ]
  },
  {
   "cell_type": "code",
   "execution_count": 5,
   "id": "9de66de4",
   "metadata": {},
   "outputs": [],
   "source": [
    "#set seeed\n",
    "def set_seed(seed):\n",
    "    random.seed(seed)\n",
    "    os.environ[\"PYTHONHASHSEED\"] = str(seed)\n",
    "    np.random.seed(seed)\n",
    "    torch.manual_seed(seed)\n",
    "    if torch.cuda.is_available():\n",
    "        torch.cuda.manual_seed_all(seed)\n",
    "        torch.backends.cudnn.deterministic = True\n",
    "\n",
    "set_seed(12)"
   ]
  },
  {
   "cell_type": "code",
   "execution_count": 6,
   "id": "c012b4fd",
   "metadata": {},
   "outputs": [
    {
     "data": {
      "text/html": [
       "<div>\n",
       "<style scoped>\n",
       "    .dataframe tbody tr th:only-of-type {\n",
       "        vertical-align: middle;\n",
       "    }\n",
       "\n",
       "    .dataframe tbody tr th {\n",
       "        vertical-align: top;\n",
       "    }\n",
       "\n",
       "    .dataframe thead th {\n",
       "        text-align: right;\n",
       "    }\n",
       "</style>\n",
       "<table border=\"1\" class=\"dataframe\">\n",
       "  <thead>\n",
       "    <tr style=\"text-align: right;\">\n",
       "      <th></th>\n",
       "      <th>BraTS21ID</th>\n",
       "      <th>MGMT_value</th>\n",
       "    </tr>\n",
       "  </thead>\n",
       "  <tbody>\n",
       "    <tr>\n",
       "      <th>0</th>\n",
       "      <td>0</td>\n",
       "      <td>1</td>\n",
       "    </tr>\n",
       "    <tr>\n",
       "      <th>1</th>\n",
       "      <td>2</td>\n",
       "      <td>1</td>\n",
       "    </tr>\n",
       "    <tr>\n",
       "      <th>2</th>\n",
       "      <td>3</td>\n",
       "      <td>0</td>\n",
       "    </tr>\n",
       "    <tr>\n",
       "      <th>3</th>\n",
       "      <td>5</td>\n",
       "      <td>1</td>\n",
       "    </tr>\n",
       "    <tr>\n",
       "      <th>4</th>\n",
       "      <td>6</td>\n",
       "      <td>1</td>\n",
       "    </tr>\n",
       "  </tbody>\n",
       "</table>\n",
       "</div>"
      ],
      "text/plain": [
       "   BraTS21ID  MGMT_value\n",
       "0          0           1\n",
       "1          2           1\n",
       "2          3           0\n",
       "3          5           1\n",
       "4          6           1"
      ]
     },
     "metadata": {},
     "output_type": "display_data"
    }
   ],
   "source": [
    "#train & val split\n",
    "train_labels = pd.read_csv(data_root.joinpath('train_labels.csv'))\n",
    "display(train_labels.head())\n",
    "\n",
    "df_train, df_valid = train_test_split(\n",
    "    train_labels, \n",
    "    test_size=0.2, \n",
    "    random_state=12, \n",
    "    stratify=train_labels[\"MGMT_value\"],\n",
    ")"
   ]
  },
  {
   "cell_type": "code",
   "execution_count": 7,
   "id": "50809363",
   "metadata": {},
   "outputs": [
    {
     "data": {
      "text/plain": [
       "array([1, 0], dtype=int64)"
      ]
     },
     "execution_count": 7,
     "metadata": {},
     "output_type": "execute_result"
    }
   ],
   "source": [
    "train_labels['MGMT_value'].unique()"
   ]
  },
  {
   "cell_type": "markdown",
   "id": "4a9c274f",
   "metadata": {},
   "source": [
    "## Save created Tensors"
   ]
  },
  {
   "cell_type": "code",
   "execution_count": 8,
   "id": "074b7076",
   "metadata": {},
   "outputs": [
    {
     "data": {
      "text/plain": [
       "['FLAIR', 'T1w', 'T1wCE', 'T2w']"
      ]
     },
     "execution_count": 8,
     "metadata": {},
     "output_type": "execute_result"
    }
   ],
   "source": [
    "mri_types"
   ]
  },
  {
   "cell_type": "code",
   "execution_count": 28,
   "id": "64832eb0",
   "metadata": {},
   "outputs": [],
   "source": [
    "save_path = Path('../preprocessed_array/')"
   ]
  },
  {
   "cell_type": "code",
   "execution_count": 31,
   "id": "0192e090",
   "metadata": {},
   "outputs": [],
   "source": [
    "# scan_id_list = os.listdir(data_root.joinpath('train'))\n",
    "\n",
    "# for scan_id in scan_id_list :\n",
    "    \n",
    "#     for scan_type in mri_types :\n",
    "        \n",
    "#         voxel, plane = get_voxel(scan_id, scan_type) \n",
    "#         voxel = normalize_contrast(voxel)\n",
    "#         voxel = crop_voxel(voxel)\n",
    "#         voxel = resize_voxel(voxel)\n",
    "        \n",
    "#         os.makedirs(save_path.joinpath('train').joinpath(scan_id).joinpath(scan_type))\n",
    "        \n",
    "#         np.save(file= f'{save_path}/train/{scan_id}/{scan_type}/voxel', arr= voxel)\n",
    "        "
   ]
  },
  {
   "cell_type": "code",
   "execution_count": 14,
   "id": "58f8b2e6",
   "metadata": {},
   "outputs": [],
   "source": [
    "array = np.load('../preprocessed_array/train/00000/FLAIR/voxel.npy')"
   ]
  },
  {
   "cell_type": "code",
   "execution_count": null,
   "id": "040a97a6",
   "metadata": {},
   "outputs": [],
   "source": []
  },
  {
   "cell_type": "markdown",
   "id": "d7b69704",
   "metadata": {},
   "source": [
    "## Datasets "
   ]
  },
  {
   "cell_type": "code",
   "execution_count": 15,
   "id": "64aecc85",
   "metadata": {},
   "outputs": [],
   "source": [
    "class MRIScanDataset(Dataset) :\n",
    "    \n",
    "    def __init__(self, paths, targets=None, mri_type=None, \n",
    "                 label_smoothing=0.01, split=\"train\", \n",
    "                 augment=False) :\n",
    "        \n",
    "        self.paths = paths\n",
    "        self.targets = targets\n",
    "        self.mri_type = mri_type\n",
    "        self.label_smoothing = label_smoothing\n",
    "        self.split = split\n",
    "        self.augment = augment\n",
    "        \n",
    "        \n",
    "    def __len__(self) :\n",
    "        return len(self.paths)\n",
    "    \n",
    "    def __getitem__(self, index) :\n",
    "        \n",
    "        scan_id = str(self.paths[index]).zfill(5)\n",
    "        mri_type = self.mri_type[index]\n",
    "        \n",
    "        #for prediction data\n",
    "        if self.targets is None: \n",
    "            voxel = np.load(data_root.joinpath('train').joinpath(scan_id).joinpath(mri_type).joinpath('voxel.npy'))\n",
    "            \n",
    "        #for training data when label is present\n",
    "        else:\n",
    "            if self.augment:\n",
    "                rotation = np.random.randint(0,4)\n",
    "            else:\n",
    "                rotation = 0\n",
    "             \n",
    "            voxel = np.load(data_root.joinpath('train').joinpath(scan_id).joinpath(mri_type).joinpath('voxel.npy'))\n",
    "            voxel = np.expand_dims(voxel,0)\n",
    "            \n",
    "            \n",
    "        if self.targets is None:\n",
    "            return {\"X\": torch.tensor(voxel).float(), \"id\": scan_id}\n",
    "        else:\n",
    "            y = torch.tensor(abs(self.targets[index]-self.label_smoothing), dtype=torch.float)\n",
    "            return {\"X\": torch.tensor(voxel).float(), \"y\": y}\n",
    "               "
   ]
  },
  {
   "cell_type": "code",
   "execution_count": 16,
   "id": "ae5fee27",
   "metadata": {},
   "outputs": [
    {
     "name": "stdout",
     "output_type": "stream",
     "text": [
      "torch.Size([16, 1, 64, 64, 64])\n",
      "torch.Size([16])\n"
     ]
    }
   ],
   "source": [
    "df_train.loc[:,\"MRI_Type\"] = 'FLAIR'\n",
    "train_dataset = MRIScanDataset(\n",
    "        df_train[\"BraTS21ID\"].values, \n",
    "        df_train[\"MGMT_value\"].values, \n",
    "        df_train[\"MRI_Type\"].values,\n",
    "        augment=False)\n",
    "\n",
    "train_loader = DataLoader(\n",
    "        train_dataset,\n",
    "        batch_size=16,\n",
    "        shuffle=True )\n",
    "\n",
    "\n",
    "for data in train_loader :\n",
    "    X1 = data['X']\n",
    "    y1 = data['y']\n",
    "    print(X1.shape)\n",
    "    print(y1.shape)\n",
    "    break"
   ]
  },
  {
   "cell_type": "code",
   "execution_count": 17,
   "id": "8180f55f",
   "metadata": {},
   "outputs": [
    {
     "data": {
      "text/plain": [
       "<matplotlib.image.AxesImage at 0x20564adca30>"
      ]
     },
     "execution_count": 17,
     "metadata": {},
     "output_type": "execute_result"
    },
    {
     "data": {
      "image/png": "[encoded data removed]",
      "text/plain": [
       "<Figure size 432x288 with 1 Axes>"
      ]
     },
     "metadata": {
      "needs_background": "light"
     },
     "output_type": "display_data"
    }
   ],
   "source": [
    "example = X1[0][0]\n",
    "plt.imshow(np.array(example)[32])"
   ]
  },
  {
   "cell_type": "markdown",
   "id": "280f6fde",
   "metadata": {},
   "source": [
    "## Model "
   ]
  },
  {
   "cell_type": "code",
   "execution_count": 24,
   "id": "69663af3",
   "metadata": {},
   "outputs": [],
   "source": [
    "# class EfficientNetb1(nn.Module):\n",
    "    \n",
    "#     def __init__(self):\n",
    "        \n",
    "#         super().__init__()\n",
    "#         self.net = EfficientNet3D.(\"efficientnet-b1\", override_params={'num_classes': 2}, in_channels=1)\n",
    "#         n_features = self.net._fc.in_features\n",
    "#         self.net._fc = nn.Linear(in_features=n_features, out_features=1, bias=True)\n",
    "    \n",
    "#     def forward(self, x):\n",
    "#         out = self.net(x)\n",
    "#         return out"
   ]
  },
  {
   "cell_type": "code",
   "execution_count": 80,
   "id": "d3468096",
   "metadata": {},
   "outputs": [],
   "source": [
    "class CNNModel(nn.Module):\n",
    "    def __init__(self):\n",
    "        super(CNNModel, self).__init__()\n",
    "        \n",
    "        self.conv_layer1 = self._conv_layer_set(1, 16)\n",
    "        self.conv_layer2 = self._conv_layer_set(16, 32)\n",
    "        self.fc1 = nn.Linear(14*30*30*32, 64)\n",
    "        self.fc2 = nn.Linear(64, 1)\n",
    "        self.relu = nn.LeakyReLU()\n",
    "        self.batch=nn.BatchNorm1d(64)\n",
    "        self.drop=nn.Dropout(p=0.15)        \n",
    "        \n",
    "    def _conv_layer_set(self, in_c, out_c):\n",
    "        conv_layer = nn.Sequential(\n",
    "        nn.Conv3d(in_c, out_c, kernel_size=(3, 3, 3), padding=0),\n",
    "        nn.LeakyReLU(),\n",
    "        nn.MaxPool3d((2, 2, 2)),\n",
    "        )\n",
    "        return conv_layer\n",
    "    \n",
    "\n",
    "    def forward(self, x):\n",
    "        # Set 1\n",
    "        out = self.conv_layer1(x)\n",
    "        out = self.conv_layer2(out)\n",
    "        out = out.view(out.size(0), -1)\n",
    "        out = self.fc1(out)\n",
    "        out = self.relu(out)\n",
    "        out = self.batch(out)\n",
    "        out = self.drop(out)\n",
    "        out = self.fc2(out)\n",
    "        \n",
    "        return out"
   ]
  },
  {
   "cell_type": "code",
   "execution_count": 81,
   "id": "3185fb29",
   "metadata": {},
   "outputs": [
    {
     "name": "stdout",
     "output_type": "stream",
     "text": [
      "CNNModel(\n",
      "  (conv_layer1): Sequential(\n",
      "    (0): Conv3d(1, 16, kernel_size=(3, 3, 3), stride=(1, 1, 1))\n",
      "    (1): LeakyReLU(negative_slope=0.01)\n",
      "    (2): MaxPool3d(kernel_size=(2, 2, 2), stride=(2, 2, 2), padding=0, dilation=1, ceil_mode=False)\n",
      "  )\n",
      "  (conv_layer2): Sequential(\n",
      "    (0): Conv3d(16, 32, kernel_size=(3, 3, 3), stride=(1, 1, 1))\n",
      "    (1): LeakyReLU(negative_slope=0.01)\n",
      "    (2): MaxPool3d(kernel_size=(2, 2, 2), stride=(2, 2, 2), padding=0, dilation=1, ceil_mode=False)\n",
      "  )\n",
      "  (fc1): Linear(in_features=403200, out_features=64, bias=True)\n",
      "  (fc2): Linear(in_features=64, out_features=1, bias=True)\n",
      "  (relu): LeakyReLU(negative_slope=0.01)\n",
      "  (batch): BatchNorm1d(64, eps=1e-05, momentum=0.1, affine=True, track_running_stats=True)\n",
      "  (drop): Dropout(p=0.15, inplace=False)\n",
      ")\n"
     ]
    }
   ],
   "source": [
    "model = CNNModel()\n",
    "print(model)"
   ]
  },
  {
   "cell_type": "code",
   "execution_count": null,
   "id": "0c50b235",
   "metadata": {},
   "outputs": [],
   "source": []
  },
  {
   "cell_type": "markdown",
   "id": "6ccc6053",
   "metadata": {},
   "source": [
    "## Train Model "
   ]
  },
  {
   "cell_type": "code",
   "execution_count": 83,
   "id": "154e3cb7",
   "metadata": {},
   "outputs": [],
   "source": [
    "class TrainModel:\n",
    "    \n",
    "    def __init__(self, model, device, \n",
    "                optimizer, criterion ):\n",
    "        \n",
    "        self.model = model\n",
    "        self.device = device\n",
    "        self.optimizer = optimizer\n",
    "        self.criterion = criterion\n",
    "        \n",
    "        self.best_valid_score = np.inf\n",
    "        self.n_patience = 0\n",
    "        self.lastmodel = None\n",
    "        \n",
    "    def fit(self, epochs, train_dataloader, valid_dataloader, save_path, patience):\n",
    "        \n",
    "        start_time = time.time()\n",
    "        \n",
    "        for epoch in range(1, epochs + 1):\n",
    "            \n",
    "            print(f'Running Epoch {epoch}...................')\n",
    "            \n",
    "            train_loss, train_auc = self.train(train_dataloader)\n",
    "            val_loss, val_auc = self.validation(valid_dataloader)\n",
    "            \n",
    "            print(f'For Epoch {epoch :>7d} Train Loss {train_loss : >5f} Train AUC {train_auc} Val Loss {val_loss} Val AUC {val_auc} ')\n",
    "            print(f'Time Taken till Epoch {epoch :>7d} Time Taken {(time.time() - start_time)/60}')\n",
    "            \n",
    "            \n",
    "            if self.best_valid_score > val_loss: \n",
    "                \n",
    "                self.save_model(epoch, save_path, val_loss, val_auc)\n",
    "                print(f'AUC Improved from {self.best_valid_score :4f} to {val_loss}. Saved model to {self.lastmodel}')\n",
    "                \n",
    "                #updating the lossed\n",
    "                self.best_valid_score = val_loss\n",
    "                self.n_patience = 0\n",
    "            else:\n",
    "                self.n_patience += 1\n",
    "            \n",
    "            if self.n_patience >= patience:\n",
    "                print(f\"\\nValid auc didn't improve last {patience} epochs.\")\n",
    "                break\n",
    "            \n",
    "            \n",
    "            \n",
    "    def train(self, train_dataloader) :\n",
    "        '''\n",
    "        For Training the model.\n",
    "        We will be calculating batch wise loss and \n",
    "        finally calcualting auc on the overall y\n",
    "        '''\n",
    "    \n",
    "        self.model.train()\n",
    "        sum_loss = 0\n",
    "        y_all = []\n",
    "        output_all = []\n",
    "        start_time = time.time()\n",
    "\n",
    "        for batch, data in enumerate(train_dataloader) :\n",
    "\n",
    "            X = data['X'].to(self.device)\n",
    "            y = data['y'].to(self.device)\n",
    "\n",
    "            self.optimizer.zero_grad()     #clearning the accumulated gradients\n",
    "            pred = self.model(X).squeeze(1)           #make the prediction\n",
    "            loss = self.criterion(pred, y) #calcualte the loss\n",
    "            loss.backward()           #backpropagation\n",
    "            self.optimizer.step()          #update weights\n",
    "\n",
    "            sum_loss += loss.detach().item()\n",
    "            y_all.extend(data['y'].tolist()) #save all y values to y_val\n",
    "            output_all.extend(torch.sigmoid(pred).tolist())  #save all pred to output all\n",
    "\n",
    "            #print peformance\n",
    "            if batch % 20 == 0 :\n",
    "                time_taken = (time.time() - start_time)\n",
    "                start_time = time.time()\n",
    "                print(f'Train Batch {batch + 1 :>7d} Loss : {sum_loss/(batch +1)} Time Taken : {time_taken/60} ')\n",
    "\n",
    "        y_all = [1 if x > 0.5 else 0 for x in y_all]\n",
    "        train_auc = roc_auc_score(y_all, output_all)\n",
    "\n",
    "        return sum_loss/len(train_dataloader) , train_auc\n",
    "    \n",
    "    \n",
    "    \n",
    "    def validation(self, val_dataloader) :\n",
    "    \n",
    "        self.model.eval()\n",
    "        sum_loss = 0\n",
    "        y_all = []\n",
    "        output_all = []\n",
    "\n",
    "        for batch, data in enumerate(val_dataloader) :\n",
    "\n",
    "            with torch.no_grad() :\n",
    "\n",
    "                X_val = data['X'].to(self.device)\n",
    "                y_val = data['y'].to(self.device)\n",
    "\n",
    "                pred = self.model(X_val).squeeze(1)   #make the prediction\n",
    "                loss = self.criterion(pred, y_val) #calcualte the loss\n",
    "\n",
    "                sum_loss += loss.detach().item()\n",
    "                y_all.extend(data['y'].tolist()) #save all y values to y_val\n",
    "                output_all.extend(torch.sigmoid(pred).tolist())  #save all pred to output all\n",
    "\n",
    "                #print peformance\n",
    "                if batch % 20 == 0 :\n",
    "                    print(f'Test Batch {batch + 1 :>7d} Loss : {sum_loss/(batch +1)}')\n",
    "\n",
    "        y_all = [1 if x > 0.5 else 0 for x in y_all]\n",
    "        val_auc = roc_auc_score(y_all, output_all)\n",
    "\n",
    "        return sum_loss/len(val_dataloader) , val_auc\n",
    "\n",
    "            \n",
    "    def save_model(self, n_epoch, save_path, loss, auc):\n",
    "        \n",
    "        self.lastmodel = f\"{save_path}-e{n_epoch}-loss{loss:.3f}-auc{auc:.3f}.pth\"\n",
    "        torch.save(\n",
    "            {\n",
    "                \"model_state_dict\": self.model.state_dict(),\n",
    "                \"optimizer_state_dict\": self.optimizer.state_dict(),\n",
    "                \"best_valid_score\": self.best_valid_score,\n",
    "                \"n_epoch\": n_epoch,\n",
    "            },\n",
    "            self.lastmodel,\n",
    "        )"
   ]
  },
  {
   "cell_type": "code",
   "execution_count": 84,
   "id": "a343a87e",
   "metadata": {},
   "outputs": [],
   "source": [
    "#train the model\n",
    "def train_mri_type(df_train, df_valid, mri_type):\n",
    "    \n",
    "    #creating data based on selected mri_type\n",
    "    if mri_type==\"all\":\n",
    "        train_list = []\n",
    "        valid_list = []\n",
    "        for mri_type in mri_types:\n",
    "            df_train.loc[:,\"MRI_Type\"] = mri_type\n",
    "            train_list.append(df_train.copy())\n",
    "            df_valid.loc[:,\"MRI_Type\"] = mri_type\n",
    "            valid_list.append(df_valid.copy())\n",
    "\n",
    "        df_train = pd.concat(train_list)\n",
    "        df_valid = pd.concat(valid_list)\n",
    "        \n",
    "    else:\n",
    "        df_train.loc[:,\"MRI_Type\"] = mri_type\n",
    "        df_valid.loc[:,\"MRI_Type\"] = mri_type\n",
    "\n",
    "    print(df_train.shape, df_valid.shape)\n",
    "    display(df_train.head())\n",
    "    \n",
    "    #train dataset\n",
    "    train_dataset = MRIScanDataset(\n",
    "        df_train[\"BraTS21ID\"].values, \n",
    "        df_train[\"MGMT_value\"].values, \n",
    "        df_train[\"MRI_Type\"].values,\n",
    "        augment=False)\n",
    "    \n",
    "    #valid dataset\n",
    "    valid_dataset = MRIScanDataset(\n",
    "        df_valid[\"BraTS21ID\"].values, \n",
    "        df_valid[\"MGMT_value\"].values,\n",
    "        df_valid[\"MRI_Type\"].values)\n",
    "    \n",
    "    #train dataloader\n",
    "    train_loader = DataLoader(\n",
    "        train_dataset,\n",
    "        batch_size=8,\n",
    "        shuffle=True)\n",
    "\n",
    "    valid_loader = DataLoader(\n",
    "        valid_dataset, \n",
    "        batch_size=8,\n",
    "        shuffle=False\n",
    "    )\n",
    "    \n",
    "    #load model\n",
    "    model = CNNModel()\n",
    "    model.to(device)\n",
    "    \n",
    "    #define optimizer & criterion\n",
    "    criterion = F.binary_cross_entropy\n",
    "    optimizer = torch.optim.Adam(model.parameters(), lr=0.0005)\n",
    "    \n",
    "\n",
    "    trainer = TrainModel(model, device, \n",
    "                    optimizer,criterion)\n",
    "\n",
    "    history = trainer.fit(epochs= 10, train_dataloader= train_loader, valid_dataloader= valid_loader, save_path= f\"09_10_efficient_net_model/{mri_type}\", patience= 10)\n",
    "    \n",
    "    return trainer.lastmodel"
   ]
  },
  {
   "cell_type": "code",
   "execution_count": 85,
   "id": "a39e513e",
   "metadata": {},
   "outputs": [
    {
     "name": "stdout",
     "output_type": "stream",
     "text": [
      "cuda\n"
     ]
    }
   ],
   "source": [
    "device = torch.device(\"cuda\" if torch.cuda.is_available() else \"cpu\")\n",
    "print(device)"
   ]
  },
  {
   "cell_type": "code",
   "execution_count": 86,
   "id": "6b1f81ef",
   "metadata": {
    "scrolled": false
   },
   "outputs": [
    {
     "name": "stdout",
     "output_type": "stream",
     "text": [
      "(468, 3) (117, 3)\n"
     ]
    },
    {
     "data": {
      "text/html": [
       "<div>\n",
       "<style scoped>\n",
       "    .dataframe tbody tr th:only-of-type {\n",
       "        vertical-align: middle;\n",
       "    }\n",
       "\n",
       "    .dataframe tbody tr th {\n",
       "        vertical-align: top;\n",
       "    }\n",
       "\n",
       "    .dataframe thead th {\n",
       "        text-align: right;\n",
       "    }\n",
       "</style>\n",
       "<table border=\"1\" class=\"dataframe\">\n",
       "  <thead>\n",
       "    <tr style=\"text-align: right;\">\n",
       "      <th></th>\n",
       "      <th>BraTS21ID</th>\n",
       "      <th>MGMT_value</th>\n",
       "      <th>MRI_Type</th>\n",
       "    </tr>\n",
       "  </thead>\n",
       "  <tbody>\n",
       "    <tr>\n",
       "      <th>446</th>\n",
       "      <td>645</td>\n",
       "      <td>0</td>\n",
       "      <td>FLAIR</td>\n",
       "    </tr>\n",
       "    <tr>\n",
       "      <th>529</th>\n",
       "      <td>777</td>\n",
       "      <td>1</td>\n",
       "      <td>FLAIR</td>\n",
       "    </tr>\n",
       "    <tr>\n",
       "      <th>420</th>\n",
       "      <td>607</td>\n",
       "      <td>1</td>\n",
       "      <td>FLAIR</td>\n",
       "    </tr>\n",
       "    <tr>\n",
       "      <th>406</th>\n",
       "      <td>589</td>\n",
       "      <td>0</td>\n",
       "      <td>FLAIR</td>\n",
       "    </tr>\n",
       "    <tr>\n",
       "      <th>475</th>\n",
       "      <td>690</td>\n",
       "      <td>1</td>\n",
       "      <td>FLAIR</td>\n",
       "    </tr>\n",
       "  </tbody>\n",
       "</table>\n",
       "</div>"
      ],
      "text/plain": [
       "     BraTS21ID  MGMT_value MRI_Type\n",
       "446        645           0    FLAIR\n",
       "529        777           1    FLAIR\n",
       "420        607           1    FLAIR\n",
       "406        589           0    FLAIR\n",
       "475        690           1    FLAIR"
      ]
     },
     "metadata": {},
     "output_type": "display_data"
    },
    {
     "ename": "RuntimeError",
     "evalue": "CUDA error: device-side assert triggered",
     "output_type": "error",
     "traceback": [
      "\u001b[1;31m---------------------------------------------------------------------------\u001b[0m",
      "\u001b[1;31mRuntimeError\u001b[0m                              Traceback (most recent call last)",
      "\u001b[1;32m<timed exec>\u001b[0m in \u001b[0;36m<module>\u001b[1;34m\u001b[0m\n",
      "\u001b[1;32m<timed exec>\u001b[0m in \u001b[0;36m<listcomp>\u001b[1;34m(.0)\u001b[0m\n",
      "\u001b[1;32m<ipython-input-84-a9b587d899c1>\u001b[0m in \u001b[0;36mtrain_mri_type\u001b[1;34m(df_train, df_valid, mri_type)\u001b[0m\n\u001b[0;32m     49\u001b[0m     \u001b[1;31m#load model\u001b[0m\u001b[1;33m\u001b[0m\u001b[1;33m\u001b[0m\u001b[1;33m\u001b[0m\u001b[0m\n\u001b[0;32m     50\u001b[0m     \u001b[0mmodel\u001b[0m \u001b[1;33m=\u001b[0m \u001b[0mCNNModel\u001b[0m\u001b[1;33m(\u001b[0m\u001b[1;33m)\u001b[0m\u001b[1;33m\u001b[0m\u001b[1;33m\u001b[0m\u001b[0m\n\u001b[1;32m---> 51\u001b[1;33m     \u001b[0mmodel\u001b[0m\u001b[1;33m.\u001b[0m\u001b[0mto\u001b[0m\u001b[1;33m(\u001b[0m\u001b[0mdevice\u001b[0m\u001b[1;33m)\u001b[0m\u001b[1;33m\u001b[0m\u001b[1;33m\u001b[0m\u001b[0m\n\u001b[0m\u001b[0;32m     52\u001b[0m \u001b[1;33m\u001b[0m\u001b[0m\n\u001b[0;32m     53\u001b[0m     \u001b[1;31m#define optimizer & criterion\u001b[0m\u001b[1;33m\u001b[0m\u001b[1;33m\u001b[0m\u001b[1;33m\u001b[0m\u001b[0m\n",
      "\u001b[1;32m~\\Documents\\pytorch_env\\lib\\site-packages\\torch\\nn\\modules\\module.py\u001b[0m in \u001b[0;36mto\u001b[1;34m(self, *args, **kwargs)\u001b[0m\n\u001b[0;32m    671\u001b[0m             \u001b[1;32mreturn\u001b[0m \u001b[0mt\u001b[0m\u001b[1;33m.\u001b[0m\u001b[0mto\u001b[0m\u001b[1;33m(\u001b[0m\u001b[0mdevice\u001b[0m\u001b[1;33m,\u001b[0m \u001b[0mdtype\u001b[0m \u001b[1;32mif\u001b[0m \u001b[0mt\u001b[0m\u001b[1;33m.\u001b[0m\u001b[0mis_floating_point\u001b[0m\u001b[1;33m(\u001b[0m\u001b[1;33m)\u001b[0m \u001b[1;32mor\u001b[0m \u001b[0mt\u001b[0m\u001b[1;33m.\u001b[0m\u001b[0mis_complex\u001b[0m\u001b[1;33m(\u001b[0m\u001b[1;33m)\u001b[0m \u001b[1;32melse\u001b[0m \u001b[1;32mNone\u001b[0m\u001b[1;33m,\u001b[0m \u001b[0mnon_blocking\u001b[0m\u001b[1;33m)\u001b[0m\u001b[1;33m\u001b[0m\u001b[1;33m\u001b[0m\u001b[0m\n\u001b[0;32m    672\u001b[0m \u001b[1;33m\u001b[0m\u001b[0m\n\u001b[1;32m--> 673\u001b[1;33m         \u001b[1;32mreturn\u001b[0m \u001b[0mself\u001b[0m\u001b[1;33m.\u001b[0m\u001b[0m_apply\u001b[0m\u001b[1;33m(\u001b[0m\u001b[0mconvert\u001b[0m\u001b[1;33m)\u001b[0m\u001b[1;33m\u001b[0m\u001b[1;33m\u001b[0m\u001b[0m\n\u001b[0m\u001b[0;32m    674\u001b[0m \u001b[1;33m\u001b[0m\u001b[0m\n\u001b[0;32m    675\u001b[0m     def register_backward_hook(\n",
      "\u001b[1;32m~\\Documents\\pytorch_env\\lib\\site-packages\\torch\\nn\\modules\\module.py\u001b[0m in \u001b[0;36m_apply\u001b[1;34m(self, fn)\u001b[0m\n\u001b[0;32m    385\u001b[0m     \u001b[1;32mdef\u001b[0m \u001b[0m_apply\u001b[0m\u001b[1;33m(\u001b[0m\u001b[0mself\u001b[0m\u001b[1;33m,\u001b[0m \u001b[0mfn\u001b[0m\u001b[1;33m)\u001b[0m\u001b[1;33m:\u001b[0m\u001b[1;33m\u001b[0m\u001b[1;33m\u001b[0m\u001b[0m\n\u001b[0;32m    386\u001b[0m         \u001b[1;32mfor\u001b[0m \u001b[0mmodule\u001b[0m \u001b[1;32min\u001b[0m \u001b[0mself\u001b[0m\u001b[1;33m.\u001b[0m\u001b[0mchildren\u001b[0m\u001b[1;33m(\u001b[0m\u001b[1;33m)\u001b[0m\u001b[1;33m:\u001b[0m\u001b[1;33m\u001b[0m\u001b[1;33m\u001b[0m\u001b[0m\n\u001b[1;32m--> 387\u001b[1;33m             \u001b[0mmodule\u001b[0m\u001b[1;33m.\u001b[0m\u001b[0m_apply\u001b[0m\u001b[1;33m(\u001b[0m\u001b[0mfn\u001b[0m\u001b[1;33m)\u001b[0m\u001b[1;33m\u001b[0m\u001b[1;33m\u001b[0m\u001b[0m\n\u001b[0m\u001b[0;32m    388\u001b[0m \u001b[1;33m\u001b[0m\u001b[0m\n\u001b[0;32m    389\u001b[0m         \u001b[1;32mdef\u001b[0m \u001b[0mcompute_should_use_set_data\u001b[0m\u001b[1;33m(\u001b[0m\u001b[0mtensor\u001b[0m\u001b[1;33m,\u001b[0m \u001b[0mtensor_applied\u001b[0m\u001b[1;33m)\u001b[0m\u001b[1;33m:\u001b[0m\u001b[1;33m\u001b[0m\u001b[1;33m\u001b[0m\u001b[0m\n",
      "\u001b[1;32m~\\Documents\\pytorch_env\\lib\\site-packages\\torch\\nn\\modules\\module.py\u001b[0m in \u001b[0;36m_apply\u001b[1;34m(self, fn)\u001b[0m\n\u001b[0;32m    385\u001b[0m     \u001b[1;32mdef\u001b[0m \u001b[0m_apply\u001b[0m\u001b[1;33m(\u001b[0m\u001b[0mself\u001b[0m\u001b[1;33m,\u001b[0m \u001b[0mfn\u001b[0m\u001b[1;33m)\u001b[0m\u001b[1;33m:\u001b[0m\u001b[1;33m\u001b[0m\u001b[1;33m\u001b[0m\u001b[0m\n\u001b[0;32m    386\u001b[0m         \u001b[1;32mfor\u001b[0m \u001b[0mmodule\u001b[0m \u001b[1;32min\u001b[0m \u001b[0mself\u001b[0m\u001b[1;33m.\u001b[0m\u001b[0mchildren\u001b[0m\u001b[1;33m(\u001b[0m\u001b[1;33m)\u001b[0m\u001b[1;33m:\u001b[0m\u001b[1;33m\u001b[0m\u001b[1;33m\u001b[0m\u001b[0m\n\u001b[1;32m--> 387\u001b[1;33m             \u001b[0mmodule\u001b[0m\u001b[1;33m.\u001b[0m\u001b[0m_apply\u001b[0m\u001b[1;33m(\u001b[0m\u001b[0mfn\u001b[0m\u001b[1;33m)\u001b[0m\u001b[1;33m\u001b[0m\u001b[1;33m\u001b[0m\u001b[0m\n\u001b[0m\u001b[0;32m    388\u001b[0m \u001b[1;33m\u001b[0m\u001b[0m\n\u001b[0;32m    389\u001b[0m         \u001b[1;32mdef\u001b[0m \u001b[0mcompute_should_use_set_data\u001b[0m\u001b[1;33m(\u001b[0m\u001b[0mtensor\u001b[0m\u001b[1;33m,\u001b[0m \u001b[0mtensor_applied\u001b[0m\u001b[1;33m)\u001b[0m\u001b[1;33m:\u001b[0m\u001b[1;33m\u001b[0m\u001b[1;33m\u001b[0m\u001b[0m\n",
      "\u001b[1;32m~\\Documents\\pytorch_env\\lib\\site-packages\\torch\\nn\\modules\\module.py\u001b[0m in \u001b[0;36m_apply\u001b[1;34m(self, fn)\u001b[0m\n\u001b[0;32m    407\u001b[0m                 \u001b[1;31m# `with torch.no_grad():`\u001b[0m\u001b[1;33m\u001b[0m\u001b[1;33m\u001b[0m\u001b[1;33m\u001b[0m\u001b[0m\n\u001b[0;32m    408\u001b[0m                 \u001b[1;32mwith\u001b[0m \u001b[0mtorch\u001b[0m\u001b[1;33m.\u001b[0m\u001b[0mno_grad\u001b[0m\u001b[1;33m(\u001b[0m\u001b[1;33m)\u001b[0m\u001b[1;33m:\u001b[0m\u001b[1;33m\u001b[0m\u001b[1;33m\u001b[0m\u001b[0m\n\u001b[1;32m--> 409\u001b[1;33m                     \u001b[0mparam_applied\u001b[0m \u001b[1;33m=\u001b[0m \u001b[0mfn\u001b[0m\u001b[1;33m(\u001b[0m\u001b[0mparam\u001b[0m\u001b[1;33m)\u001b[0m\u001b[1;33m\u001b[0m\u001b[1;33m\u001b[0m\u001b[0m\n\u001b[0m\u001b[0;32m    410\u001b[0m                 \u001b[0mshould_use_set_data\u001b[0m \u001b[1;33m=\u001b[0m \u001b[0mcompute_should_use_set_data\u001b[0m\u001b[1;33m(\u001b[0m\u001b[0mparam\u001b[0m\u001b[1;33m,\u001b[0m \u001b[0mparam_applied\u001b[0m\u001b[1;33m)\u001b[0m\u001b[1;33m\u001b[0m\u001b[1;33m\u001b[0m\u001b[0m\n\u001b[0;32m    411\u001b[0m                 \u001b[1;32mif\u001b[0m \u001b[0mshould_use_set_data\u001b[0m\u001b[1;33m:\u001b[0m\u001b[1;33m\u001b[0m\u001b[1;33m\u001b[0m\u001b[0m\n",
      "\u001b[1;32m~\\Documents\\pytorch_env\\lib\\site-packages\\torch\\nn\\modules\\module.py\u001b[0m in \u001b[0;36mconvert\u001b[1;34m(t)\u001b[0m\n\u001b[0;32m    669\u001b[0m                 return t.to(device, dtype if t.is_floating_point() or t.is_complex() else None,\n\u001b[0;32m    670\u001b[0m                             non_blocking, memory_format=convert_to_format)\n\u001b[1;32m--> 671\u001b[1;33m             \u001b[1;32mreturn\u001b[0m \u001b[0mt\u001b[0m\u001b[1;33m.\u001b[0m\u001b[0mto\u001b[0m\u001b[1;33m(\u001b[0m\u001b[0mdevice\u001b[0m\u001b[1;33m,\u001b[0m \u001b[0mdtype\u001b[0m \u001b[1;32mif\u001b[0m \u001b[0mt\u001b[0m\u001b[1;33m.\u001b[0m\u001b[0mis_floating_point\u001b[0m\u001b[1;33m(\u001b[0m\u001b[1;33m)\u001b[0m \u001b[1;32mor\u001b[0m \u001b[0mt\u001b[0m\u001b[1;33m.\u001b[0m\u001b[0mis_complex\u001b[0m\u001b[1;33m(\u001b[0m\u001b[1;33m)\u001b[0m \u001b[1;32melse\u001b[0m \u001b[1;32mNone\u001b[0m\u001b[1;33m,\u001b[0m \u001b[0mnon_blocking\u001b[0m\u001b[1;33m)\u001b[0m\u001b[1;33m\u001b[0m\u001b[1;33m\u001b[0m\u001b[0m\n\u001b[0m\u001b[0;32m    672\u001b[0m \u001b[1;33m\u001b[0m\u001b[0m\n\u001b[0;32m    673\u001b[0m         \u001b[1;32mreturn\u001b[0m \u001b[0mself\u001b[0m\u001b[1;33m.\u001b[0m\u001b[0m_apply\u001b[0m\u001b[1;33m(\u001b[0m\u001b[0mconvert\u001b[0m\u001b[1;33m)\u001b[0m\u001b[1;33m\u001b[0m\u001b[1;33m\u001b[0m\u001b[0m\n",
      "\u001b[1;31mRuntimeError\u001b[0m: CUDA error: device-side assert triggered"
     ]
    }
   ],
   "source": [
    "%%time\n",
    "modelfiles = None\n",
    "\n",
    "if not modelfiles:\n",
    "    modelfiles = [train_mri_type(df_train, df_valid, m) for m in mri_types]\n",
    "    print(modelfiles)"
   ]
  },
  {
   "cell_type": "code",
   "execution_count": null,
   "id": "9cd56770",
   "metadata": {},
   "outputs": [],
   "source": []
  }
 ],
 "metadata": {
  "kernelspec": {
   "display_name": "Python 3",
   "language": "python",
   "name": "python3"
  },
  "language_info": {
   "codemirror_mode": {
    "name": "ipython",
    "version": 3
   },
   "file_extension": ".py",
   "mimetype": "text/x-python",
   "name": "python",
   "nbconvert_exporter": "python",
   "pygments_lexer": "ipython3",
   "version": "3.9.5"
  },
  "toc": {
   "base_numbering": 1,
   "nav_menu": {},
   "number_sections": true,
   "sideBar": true,
   "skip_h1_title": false,
   "title_cell": "Table of Contents",
   "title_sidebar": "Contents",
   "toc_cell": false,
   "toc_position": {},
   "toc_section_display": true,
   "toc_window_display": false
  }
 },
 "nbformat": 4,
 "nbformat_minor": 5
}
